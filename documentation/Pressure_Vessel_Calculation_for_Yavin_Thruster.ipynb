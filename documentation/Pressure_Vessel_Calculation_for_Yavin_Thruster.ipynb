{
 "cells": [
  {
   "cell_type": "code",
   "execution_count": 1,
   "metadata": {
    "collapsed": false
   },
   "outputs": [],
   "source": [
    "import os, sys\n",
    "\n",
    "def is_root(path):\n",
    "    \"\"\"\n",
    "    Determine whether the path passed is the root directory for the file system\n",
    "    \"\"\"\n",
    "    return not os.path.split(os.path.normpath(os.path.abspath(path)))[1]\n",
    "\n",
    "def is_root_project_dir(path):\n",
    "    \"\"\"\n",
    "    Determine whether the path specified is the root project directory by looking for \n",
    "    __mtk__.py in the directory. If the root file system directory is encountered, throw\n",
    "    an exception\n",
    "    \"\"\"\n",
    "    PROJECT_ROOT_FILE = '__mtk__.py'\n",
    "    \n",
    "    # make sure the path is in an OK format (ends with a directory separator)\n",
    "    search_path = str(path)\n",
    "    if (not search_path.endswith(os.sep)):\n",
    "        search_path += os.sep\n",
    "        \n",
    "    # make sure the path isn't the root. if it is, there's a problem\n",
    "    if (is_root(search_path)):\n",
    "        raise Exception('Failed to locate root MTK directory (directory containint %s)' % PROJECT_ROOT_FILE)\n",
    "        \n",
    "    # check to see whether we can find the project root file in this path\n",
    "    return os.path.isfile(search_path + PROJECT_ROOT_FILE)\n",
    "\n",
    "def get_project_root():\n",
    "    \"\"\"\n",
    "    Locate the project's root directory and return its location. If the root file system\n",
    "    directory is encountered, throw an exception\n",
    "    \"\"\"\n",
    "    search_path = os.getcwd() + os.sep\n",
    "    count = 0\n",
    "    while (not is_root_project_dir(search_path)):\n",
    "        search_path = os.path.normpath(os.path.abspath(search_path + '..' + os.sep)) + os.sep\n",
    "    return search_path\n",
    "\n",
    "lib_path = get_project_root()\n",
    "sys.path.insert(0, lib_path)\n",
    "\n",
    "from lib.util import Singleton"
   ]
  },
  {
   "cell_type": "markdown",
   "metadata": {},
   "source": [
    "Tests\n",
    "------"
   ]
  },
  {
   "cell_type": "code",
   "execution_count": 2,
   "metadata": {
    "collapsed": false,
    "scrolled": true
   },
   "outputs": [
    {
     "data": {
      "text/html": [
       "<table><tr><th>Test Case</th><th>r<sub>i</sub></th><th>P<sub>c</sub></th><th>P<sub>amb</sub></th><th>&sigma;<sub>y</sub></th><th>t<sub>calc</sub></th><th>t<sub>exp</sub></th></tr><tr><td>INCONEL 718, run 63</td><td>$133.1$ $mm$</td><td>$9192.7$ $kPa$</td><td>$0.0$ $kPa$</td><td>$1075.6$ $MPa$</td><td>$1.7$ $mm$</td><td>$1.7$ $mm$</td></tr><tr><td>INCONEL 718, run 57</td><td>$133.1$ $mm$</td><td>$29206.5$ $kPa$</td><td>$0.0$ $kPa$</td><td>$1075.6$ $MPa$</td><td>$5.5$ $mm$</td><td>$5.5$ $mm$</td></tr><tr><td>INCONEL 718, run 55</td><td>$242.4$ $mm$</td><td>$28443.4$ $kPa$</td><td>$0.0$ $kPa$</td><td>$1075.6$ $MPa$</td><td>$9.8$ $mm$</td><td>$9.8$ $mm$</td></tr><tr><td>Alloy 188, run 45</td><td>$133.1$ $mm$</td><td>$9192.7$ $kPa$</td><td>$0.0$ $kPa$</td><td>$289.6$ $MPa$</td><td>$6.5$ $mm$</td><td>$6.5$ $mm$</td></tr><tr><td>Alloy 188, run 40</td><td>$242.4$ $mm$</td><td>$17812.1$ $kPa$</td><td>$0.0$ $kPa$</td><td>$289.6$ $MPa$</td><td>$23.5$ $mm$</td><td>$23.5$ $mm$</td></tr><tr><td>Alloy 188, run 37</td><td>$242.4$ $mm$</td><td>$28443.4$ $kPa$</td><td>$0.0$ $kPa$</td><td>$289.6$ $MPa$</td><td>$38.8$ $mm$</td><td>$38.8$ $mm$</td></tr><tr><td>Ox-Free Copper, run 18</td><td>$133.1$ $mm$</td><td>$9192.7$ $kPa$</td><td>$0.0$ $kPa$</td><td>$390.2$ $MPa$</td><td>$4.8$ $mm$</td><td>$4.8$ $mm$</td></tr><tr><td>Ox-Free Copper, run 11</td><td>$196.7$ $mm$</td><td>$30003.5$ $kPa$</td><td>$0.0$ $kPa$</td><td>$319.9$ $MPa$</td><td>$29.9$ $mm$</td><td>$29.9$ $mm$</td></tr><tr><td>Ox-Free Copper, run 13</td><td>$242.4$ $mm$</td><td>$17812.1$ $kPa$</td><td>$0.0$ $kPa$</td><td>$120.0$ $MPa$</td><td>$61.6$ $mm$</td><td>$61.6$ $mm$</td></tr></table>"
      ],
      "text/plain": [
       "<__main__.PressureVesselTestCaseDataHtml at 0x7f61a03f57f0>"
      ]
     },
     "execution_count": 2,
     "metadata": {},
     "output_type": "execute_result"
    }
   ],
   "source": [
    "from tests.chamber import PressureVesselTestCaseDataset\n",
    "from lib.pint_ext import PintExtUnitRegistry\n",
    "units = PintExtUnitRegistry()\n",
    "units.default_format = '~L'\n",
    "\n",
    "class PressureVesselTestCaseDataHtml():\n",
    "    def __init__(self):\n",
    "        self._dataset = PressureVesselTestCaseDataset()\n",
    "    \n",
    "    def _repr_html_(self):\n",
    "        html = [\"<table>\"]\n",
    "        html.append(\"<tr>\")\n",
    "        html.append(\"<th>Test Case</th>\")\n",
    "        html.append(\"<th>r<sub>i</sub></th>\")\n",
    "        html.append(\"<th>P<sub>c</sub></th>\")\n",
    "        html.append(\"<th>P<sub>amb</sub></th>\")\n",
    "        html.append(\"<th>&sigma;<sub>y</sub></th>\")\n",
    "        html.append(\"<th>t<sub>calc</sub></th>\")\n",
    "        html.append(\"<th>t<sub>exp</sub></th>\")\n",
    "        html.append(\"</tr>\")\n",
    "        for data in self._dataset:\n",
    "            html.append(\"<tr>\")\n",
    "            html.append(\"<td>%s</td>\" % data.name)\n",
    "            html.append(\"<td>%s</td>\" % (self._display_float(data.ri.to(units.millimeter), '{0:.1f}')))\n",
    "            html.append(\"<td>%s</td>\" % (self._display_float(data.p_c.to(units.kilopascal), '{0:.1f}')))\n",
    "            html.append(\"<td>%s</td>\" % (self._display_float(data.p_amb.to(units.kilopascal), '{0:.1f}')))\n",
    "            html.append(\"<td>%s</td>\" % (self._display_float(data.material_strength.to(units.megapascal), '{0:.1f}')))\n",
    "            html.append(\"<td>%s</td>\" % (self._display_float(data.t_calc.to(units.millimeter), '{0:.1f}')))\n",
    "            html.append(\"<td>%s</td>\" % (self._display_float(data.t_expected.to(units.millimeter), '{0:.1f}')))\n",
    "            html.append(\"</tr>\")\n",
    "        html.append(\"</table>\")\n",
    "        return ''.join(html)\n",
    "        \n",
    "    def _display_float(self, x, format_string):\n",
    "        return self._display_float_magnitude(x, format_string) + ' ' + self._display_units(x)\n",
    "\n",
    "    def _display_float_magnitude(self, x, format_string):\n",
    "        value = x.magnitude\n",
    "        return '$' + format_string.format(float(x.magnitude)) + '$'\n",
    "\n",
    "    def _display_units(self, x):\n",
    "        pint_string_elements = '{:}'.format(x).split(' ')\n",
    "        return '$' + pint_string_elements[1] + '$'\n",
    "    \n",
    "table = PressureVesselTestCaseDataHtml()\n",
    "table"
   ]
  }
 ],
 "metadata": {
  "kernelspec": {
   "display_name": "Python 3",
   "language": "python",
   "name": "python3"
  },
  "language_info": {
   "codemirror_mode": {
    "name": "ipython",
    "version": 3
   },
   "file_extension": ".py",
   "mimetype": "text/x-python",
   "name": "python",
   "nbconvert_exporter": "python",
   "pygments_lexer": "ipython3",
   "version": "3.4.3"
  }
 },
 "nbformat": 4,
 "nbformat_minor": 0
}
